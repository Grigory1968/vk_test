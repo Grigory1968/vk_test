{
  "nbformat": 4,
  "nbformat_minor": 0,
  "metadata": {
    "colab": {
      "provenance": []
    },
    "kernelspec": {
      "name": "python3",
      "display_name": "Python 3"
    },
    "language_info": {
      "name": "python"
    },
    "widgets": {
      "application/vnd.jupyter.widget-state+json": {
        "4a34d68cd26d44e38bee22b2a1d9056a": {
          "model_module": "@jupyter-widgets/controls",
          "model_name": "HBoxModel",
          "model_module_version": "1.5.0",
          "state": {
            "_dom_classes": [],
            "_model_module": "@jupyter-widgets/controls",
            "_model_module_version": "1.5.0",
            "_model_name": "HBoxModel",
            "_view_count": null,
            "_view_module": "@jupyter-widgets/controls",
            "_view_module_version": "1.5.0",
            "_view_name": "HBoxView",
            "box_style": "",
            "children": [
              "IPY_MODEL_64af893b108f4c36a5fcdd7d492b2c79",
              "IPY_MODEL_f7dc827a117641b3a50323716a601542",
              "IPY_MODEL_12e8afdd60154989962836a768e47d20"
            ],
            "layout": "IPY_MODEL_a3687aff0d304fc5913cb09d20eebce7"
          }
        },
        "64af893b108f4c36a5fcdd7d492b2c79": {
          "model_module": "@jupyter-widgets/controls",
          "model_name": "HTMLModel",
          "model_module_version": "1.5.0",
          "state": {
            "_dom_classes": [],
            "_model_module": "@jupyter-widgets/controls",
            "_model_module_version": "1.5.0",
            "_model_name": "HTMLModel",
            "_view_count": null,
            "_view_module": "@jupyter-widgets/controls",
            "_view_module_version": "1.5.0",
            "_view_name": "HTMLView",
            "description": "",
            "description_tooltip": null,
            "layout": "IPY_MODEL_775ecfca39aa4ca98f1a2350b926b870",
            "placeholder": "​",
            "style": "IPY_MODEL_cb35b422e3104ac29f521aa5bc368095",
            "value": "Best trial: 75. Best value: 0.577115: 100%"
          }
        },
        "f7dc827a117641b3a50323716a601542": {
          "model_module": "@jupyter-widgets/controls",
          "model_name": "FloatProgressModel",
          "model_module_version": "1.5.0",
          "state": {
            "_dom_classes": [],
            "_model_module": "@jupyter-widgets/controls",
            "_model_module_version": "1.5.0",
            "_model_name": "FloatProgressModel",
            "_view_count": null,
            "_view_module": "@jupyter-widgets/controls",
            "_view_module_version": "1.5.0",
            "_view_name": "ProgressView",
            "bar_style": "success",
            "description": "",
            "description_tooltip": null,
            "layout": "IPY_MODEL_8e1c6e4c058e4a6daf001508d3019c9e",
            "max": 100,
            "min": 0,
            "orientation": "horizontal",
            "style": "IPY_MODEL_835299fcaad044068c88d56b4932b2ac",
            "value": 100
          }
        },
        "12e8afdd60154989962836a768e47d20": {
          "model_module": "@jupyter-widgets/controls",
          "model_name": "HTMLModel",
          "model_module_version": "1.5.0",
          "state": {
            "_dom_classes": [],
            "_model_module": "@jupyter-widgets/controls",
            "_model_module_version": "1.5.0",
            "_model_name": "HTMLModel",
            "_view_count": null,
            "_view_module": "@jupyter-widgets/controls",
            "_view_module_version": "1.5.0",
            "_view_name": "HTMLView",
            "description": "",
            "description_tooltip": null,
            "layout": "IPY_MODEL_bf642d5567b740f688f5a6494a4b91f6",
            "placeholder": "​",
            "style": "IPY_MODEL_a092fdc1605e49fea0971c52f1c526d3",
            "value": " 100/100 [28:19&lt;00:00, 23.22s/it]"
          }
        },
        "a3687aff0d304fc5913cb09d20eebce7": {
          "model_module": "@jupyter-widgets/base",
          "model_name": "LayoutModel",
          "model_module_version": "1.2.0",
          "state": {
            "_model_module": "@jupyter-widgets/base",
            "_model_module_version": "1.2.0",
            "_model_name": "LayoutModel",
            "_view_count": null,
            "_view_module": "@jupyter-widgets/base",
            "_view_module_version": "1.2.0",
            "_view_name": "LayoutView",
            "align_content": null,
            "align_items": null,
            "align_self": null,
            "border": null,
            "bottom": null,
            "display": null,
            "flex": null,
            "flex_flow": null,
            "grid_area": null,
            "grid_auto_columns": null,
            "grid_auto_flow": null,
            "grid_auto_rows": null,
            "grid_column": null,
            "grid_gap": null,
            "grid_row": null,
            "grid_template_areas": null,
            "grid_template_columns": null,
            "grid_template_rows": null,
            "height": null,
            "justify_content": null,
            "justify_items": null,
            "left": null,
            "margin": null,
            "max_height": null,
            "max_width": null,
            "min_height": null,
            "min_width": null,
            "object_fit": null,
            "object_position": null,
            "order": null,
            "overflow": null,
            "overflow_x": null,
            "overflow_y": null,
            "padding": null,
            "right": null,
            "top": null,
            "visibility": null,
            "width": null
          }
        },
        "775ecfca39aa4ca98f1a2350b926b870": {
          "model_module": "@jupyter-widgets/base",
          "model_name": "LayoutModel",
          "model_module_version": "1.2.0",
          "state": {
            "_model_module": "@jupyter-widgets/base",
            "_model_module_version": "1.2.0",
            "_model_name": "LayoutModel",
            "_view_count": null,
            "_view_module": "@jupyter-widgets/base",
            "_view_module_version": "1.2.0",
            "_view_name": "LayoutView",
            "align_content": null,
            "align_items": null,
            "align_self": null,
            "border": null,
            "bottom": null,
            "display": null,
            "flex": null,
            "flex_flow": null,
            "grid_area": null,
            "grid_auto_columns": null,
            "grid_auto_flow": null,
            "grid_auto_rows": null,
            "grid_column": null,
            "grid_gap": null,
            "grid_row": null,
            "grid_template_areas": null,
            "grid_template_columns": null,
            "grid_template_rows": null,
            "height": null,
            "justify_content": null,
            "justify_items": null,
            "left": null,
            "margin": null,
            "max_height": null,
            "max_width": null,
            "min_height": null,
            "min_width": null,
            "object_fit": null,
            "object_position": null,
            "order": null,
            "overflow": null,
            "overflow_x": null,
            "overflow_y": null,
            "padding": null,
            "right": null,
            "top": null,
            "visibility": null,
            "width": null
          }
        },
        "cb35b422e3104ac29f521aa5bc368095": {
          "model_module": "@jupyter-widgets/controls",
          "model_name": "DescriptionStyleModel",
          "model_module_version": "1.5.0",
          "state": {
            "_model_module": "@jupyter-widgets/controls",
            "_model_module_version": "1.5.0",
            "_model_name": "DescriptionStyleModel",
            "_view_count": null,
            "_view_module": "@jupyter-widgets/base",
            "_view_module_version": "1.2.0",
            "_view_name": "StyleView",
            "description_width": ""
          }
        },
        "8e1c6e4c058e4a6daf001508d3019c9e": {
          "model_module": "@jupyter-widgets/base",
          "model_name": "LayoutModel",
          "model_module_version": "1.2.0",
          "state": {
            "_model_module": "@jupyter-widgets/base",
            "_model_module_version": "1.2.0",
            "_model_name": "LayoutModel",
            "_view_count": null,
            "_view_module": "@jupyter-widgets/base",
            "_view_module_version": "1.2.0",
            "_view_name": "LayoutView",
            "align_content": null,
            "align_items": null,
            "align_self": null,
            "border": null,
            "bottom": null,
            "display": null,
            "flex": null,
            "flex_flow": null,
            "grid_area": null,
            "grid_auto_columns": null,
            "grid_auto_flow": null,
            "grid_auto_rows": null,
            "grid_column": null,
            "grid_gap": null,
            "grid_row": null,
            "grid_template_areas": null,
            "grid_template_columns": null,
            "grid_template_rows": null,
            "height": null,
            "justify_content": null,
            "justify_items": null,
            "left": null,
            "margin": null,
            "max_height": null,
            "max_width": null,
            "min_height": null,
            "min_width": null,
            "object_fit": null,
            "object_position": null,
            "order": null,
            "overflow": null,
            "overflow_x": null,
            "overflow_y": null,
            "padding": null,
            "right": null,
            "top": null,
            "visibility": null,
            "width": null
          }
        },
        "835299fcaad044068c88d56b4932b2ac": {
          "model_module": "@jupyter-widgets/controls",
          "model_name": "ProgressStyleModel",
          "model_module_version": "1.5.0",
          "state": {
            "_model_module": "@jupyter-widgets/controls",
            "_model_module_version": "1.5.0",
            "_model_name": "ProgressStyleModel",
            "_view_count": null,
            "_view_module": "@jupyter-widgets/base",
            "_view_module_version": "1.2.0",
            "_view_name": "StyleView",
            "bar_color": null,
            "description_width": ""
          }
        },
        "bf642d5567b740f688f5a6494a4b91f6": {
          "model_module": "@jupyter-widgets/base",
          "model_name": "LayoutModel",
          "model_module_version": "1.2.0",
          "state": {
            "_model_module": "@jupyter-widgets/base",
            "_model_module_version": "1.2.0",
            "_model_name": "LayoutModel",
            "_view_count": null,
            "_view_module": "@jupyter-widgets/base",
            "_view_module_version": "1.2.0",
            "_view_name": "LayoutView",
            "align_content": null,
            "align_items": null,
            "align_self": null,
            "border": null,
            "bottom": null,
            "display": null,
            "flex": null,
            "flex_flow": null,
            "grid_area": null,
            "grid_auto_columns": null,
            "grid_auto_flow": null,
            "grid_auto_rows": null,
            "grid_column": null,
            "grid_gap": null,
            "grid_row": null,
            "grid_template_areas": null,
            "grid_template_columns": null,
            "grid_template_rows": null,
            "height": null,
            "justify_content": null,
            "justify_items": null,
            "left": null,
            "margin": null,
            "max_height": null,
            "max_width": null,
            "min_height": null,
            "min_width": null,
            "object_fit": null,
            "object_position": null,
            "order": null,
            "overflow": null,
            "overflow_x": null,
            "overflow_y": null,
            "padding": null,
            "right": null,
            "top": null,
            "visibility": null,
            "width": null
          }
        },
        "a092fdc1605e49fea0971c52f1c526d3": {
          "model_module": "@jupyter-widgets/controls",
          "model_name": "DescriptionStyleModel",
          "model_module_version": "1.5.0",
          "state": {
            "_model_module": "@jupyter-widgets/controls",
            "_model_module_version": "1.5.0",
            "_model_name": "DescriptionStyleModel",
            "_view_count": null,
            "_view_module": "@jupyter-widgets/base",
            "_view_module_version": "1.2.0",
            "_view_name": "StyleView",
            "description_width": ""
          }
        },
        "cbca4e1eba5e4fc4977c1ba2d987e79f": {
          "model_module": "@jupyter-widgets/controls",
          "model_name": "HBoxModel",
          "model_module_version": "1.5.0",
          "state": {
            "_dom_classes": [],
            "_model_module": "@jupyter-widgets/controls",
            "_model_module_version": "1.5.0",
            "_model_name": "HBoxModel",
            "_view_count": null,
            "_view_module": "@jupyter-widgets/controls",
            "_view_module_version": "1.5.0",
            "_view_name": "HBoxView",
            "box_style": "",
            "children": [
              "IPY_MODEL_f0b9519e086742509b2a919da143d593",
              "IPY_MODEL_ddd32bdeae11419d8922213ba883080a",
              "IPY_MODEL_13e105c9e5094ca1adfd96e3467bee1e"
            ],
            "layout": "IPY_MODEL_fd473033355f43329483ebc520c4e695"
          }
        },
        "f0b9519e086742509b2a919da143d593": {
          "model_module": "@jupyter-widgets/controls",
          "model_name": "HTMLModel",
          "model_module_version": "1.5.0",
          "state": {
            "_dom_classes": [],
            "_model_module": "@jupyter-widgets/controls",
            "_model_module_version": "1.5.0",
            "_model_name": "HTMLModel",
            "_view_count": null,
            "_view_module": "@jupyter-widgets/controls",
            "_view_module_version": "1.5.0",
            "_view_name": "HTMLView",
            "description": "",
            "description_tooltip": null,
            "layout": "IPY_MODEL_1c4d41b75db949aba917ed4bcb2f7619",
            "placeholder": "​",
            "style": "IPY_MODEL_fdd016f461b448cdb8a127b321ddb096",
            "value": "Best trial: 89. Best value: 0.551784: 100%"
          }
        },
        "ddd32bdeae11419d8922213ba883080a": {
          "model_module": "@jupyter-widgets/controls",
          "model_name": "FloatProgressModel",
          "model_module_version": "1.5.0",
          "state": {
            "_dom_classes": [],
            "_model_module": "@jupyter-widgets/controls",
            "_model_module_version": "1.5.0",
            "_model_name": "FloatProgressModel",
            "_view_count": null,
            "_view_module": "@jupyter-widgets/controls",
            "_view_module_version": "1.5.0",
            "_view_name": "ProgressView",
            "bar_style": "success",
            "description": "",
            "description_tooltip": null,
            "layout": "IPY_MODEL_346cb4afb5f145049268427245c9b42d",
            "max": 100,
            "min": 0,
            "orientation": "horizontal",
            "style": "IPY_MODEL_3818876d9c924b6ea21f59789afdd8de",
            "value": 100
          }
        },
        "13e105c9e5094ca1adfd96e3467bee1e": {
          "model_module": "@jupyter-widgets/controls",
          "model_name": "HTMLModel",
          "model_module_version": "1.5.0",
          "state": {
            "_dom_classes": [],
            "_model_module": "@jupyter-widgets/controls",
            "_model_module_version": "1.5.0",
            "_model_name": "HTMLModel",
            "_view_count": null,
            "_view_module": "@jupyter-widgets/controls",
            "_view_module_version": "1.5.0",
            "_view_name": "HTMLView",
            "description": "",
            "description_tooltip": null,
            "layout": "IPY_MODEL_f06f0eb605de47478c212a1e90cbe6ab",
            "placeholder": "​",
            "style": "IPY_MODEL_fde1098d1b9b415fa918276076dc74de",
            "value": " 100/100 [32:07&lt;00:00,  9.32s/it]"
          }
        },
        "fd473033355f43329483ebc520c4e695": {
          "model_module": "@jupyter-widgets/base",
          "model_name": "LayoutModel",
          "model_module_version": "1.2.0",
          "state": {
            "_model_module": "@jupyter-widgets/base",
            "_model_module_version": "1.2.0",
            "_model_name": "LayoutModel",
            "_view_count": null,
            "_view_module": "@jupyter-widgets/base",
            "_view_module_version": "1.2.0",
            "_view_name": "LayoutView",
            "align_content": null,
            "align_items": null,
            "align_self": null,
            "border": null,
            "bottom": null,
            "display": null,
            "flex": null,
            "flex_flow": null,
            "grid_area": null,
            "grid_auto_columns": null,
            "grid_auto_flow": null,
            "grid_auto_rows": null,
            "grid_column": null,
            "grid_gap": null,
            "grid_row": null,
            "grid_template_areas": null,
            "grid_template_columns": null,
            "grid_template_rows": null,
            "height": null,
            "justify_content": null,
            "justify_items": null,
            "left": null,
            "margin": null,
            "max_height": null,
            "max_width": null,
            "min_height": null,
            "min_width": null,
            "object_fit": null,
            "object_position": null,
            "order": null,
            "overflow": null,
            "overflow_x": null,
            "overflow_y": null,
            "padding": null,
            "right": null,
            "top": null,
            "visibility": null,
            "width": null
          }
        },
        "1c4d41b75db949aba917ed4bcb2f7619": {
          "model_module": "@jupyter-widgets/base",
          "model_name": "LayoutModel",
          "model_module_version": "1.2.0",
          "state": {
            "_model_module": "@jupyter-widgets/base",
            "_model_module_version": "1.2.0",
            "_model_name": "LayoutModel",
            "_view_count": null,
            "_view_module": "@jupyter-widgets/base",
            "_view_module_version": "1.2.0",
            "_view_name": "LayoutView",
            "align_content": null,
            "align_items": null,
            "align_self": null,
            "border": null,
            "bottom": null,
            "display": null,
            "flex": null,
            "flex_flow": null,
            "grid_area": null,
            "grid_auto_columns": null,
            "grid_auto_flow": null,
            "grid_auto_rows": null,
            "grid_column": null,
            "grid_gap": null,
            "grid_row": null,
            "grid_template_areas": null,
            "grid_template_columns": null,
            "grid_template_rows": null,
            "height": null,
            "justify_content": null,
            "justify_items": null,
            "left": null,
            "margin": null,
            "max_height": null,
            "max_width": null,
            "min_height": null,
            "min_width": null,
            "object_fit": null,
            "object_position": null,
            "order": null,
            "overflow": null,
            "overflow_x": null,
            "overflow_y": null,
            "padding": null,
            "right": null,
            "top": null,
            "visibility": null,
            "width": null
          }
        },
        "fdd016f461b448cdb8a127b321ddb096": {
          "model_module": "@jupyter-widgets/controls",
          "model_name": "DescriptionStyleModel",
          "model_module_version": "1.5.0",
          "state": {
            "_model_module": "@jupyter-widgets/controls",
            "_model_module_version": "1.5.0",
            "_model_name": "DescriptionStyleModel",
            "_view_count": null,
            "_view_module": "@jupyter-widgets/base",
            "_view_module_version": "1.2.0",
            "_view_name": "StyleView",
            "description_width": ""
          }
        },
        "346cb4afb5f145049268427245c9b42d": {
          "model_module": "@jupyter-widgets/base",
          "model_name": "LayoutModel",
          "model_module_version": "1.2.0",
          "state": {
            "_model_module": "@jupyter-widgets/base",
            "_model_module_version": "1.2.0",
            "_model_name": "LayoutModel",
            "_view_count": null,
            "_view_module": "@jupyter-widgets/base",
            "_view_module_version": "1.2.0",
            "_view_name": "LayoutView",
            "align_content": null,
            "align_items": null,
            "align_self": null,
            "border": null,
            "bottom": null,
            "display": null,
            "flex": null,
            "flex_flow": null,
            "grid_area": null,
            "grid_auto_columns": null,
            "grid_auto_flow": null,
            "grid_auto_rows": null,
            "grid_column": null,
            "grid_gap": null,
            "grid_row": null,
            "grid_template_areas": null,
            "grid_template_columns": null,
            "grid_template_rows": null,
            "height": null,
            "justify_content": null,
            "justify_items": null,
            "left": null,
            "margin": null,
            "max_height": null,
            "max_width": null,
            "min_height": null,
            "min_width": null,
            "object_fit": null,
            "object_position": null,
            "order": null,
            "overflow": null,
            "overflow_x": null,
            "overflow_y": null,
            "padding": null,
            "right": null,
            "top": null,
            "visibility": null,
            "width": null
          }
        },
        "3818876d9c924b6ea21f59789afdd8de": {
          "model_module": "@jupyter-widgets/controls",
          "model_name": "ProgressStyleModel",
          "model_module_version": "1.5.0",
          "state": {
            "_model_module": "@jupyter-widgets/controls",
            "_model_module_version": "1.5.0",
            "_model_name": "ProgressStyleModel",
            "_view_count": null,
            "_view_module": "@jupyter-widgets/base",
            "_view_module_version": "1.2.0",
            "_view_name": "StyleView",
            "bar_color": null,
            "description_width": ""
          }
        },
        "f06f0eb605de47478c212a1e90cbe6ab": {
          "model_module": "@jupyter-widgets/base",
          "model_name": "LayoutModel",
          "model_module_version": "1.2.0",
          "state": {
            "_model_module": "@jupyter-widgets/base",
            "_model_module_version": "1.2.0",
            "_model_name": "LayoutModel",
            "_view_count": null,
            "_view_module": "@jupyter-widgets/base",
            "_view_module_version": "1.2.0",
            "_view_name": "LayoutView",
            "align_content": null,
            "align_items": null,
            "align_self": null,
            "border": null,
            "bottom": null,
            "display": null,
            "flex": null,
            "flex_flow": null,
            "grid_area": null,
            "grid_auto_columns": null,
            "grid_auto_flow": null,
            "grid_auto_rows": null,
            "grid_column": null,
            "grid_gap": null,
            "grid_row": null,
            "grid_template_areas": null,
            "grid_template_columns": null,
            "grid_template_rows": null,
            "height": null,
            "justify_content": null,
            "justify_items": null,
            "left": null,
            "margin": null,
            "max_height": null,
            "max_width": null,
            "min_height": null,
            "min_width": null,
            "object_fit": null,
            "object_position": null,
            "order": null,
            "overflow": null,
            "overflow_x": null,
            "overflow_y": null,
            "padding": null,
            "right": null,
            "top": null,
            "visibility": null,
            "width": null
          }
        },
        "fde1098d1b9b415fa918276076dc74de": {
          "model_module": "@jupyter-widgets/controls",
          "model_name": "DescriptionStyleModel",
          "model_module_version": "1.5.0",
          "state": {
            "_model_module": "@jupyter-widgets/controls",
            "_model_module_version": "1.5.0",
            "_model_name": "DescriptionStyleModel",
            "_view_count": null,
            "_view_module": "@jupyter-widgets/base",
            "_view_module_version": "1.2.0",
            "_view_name": "StyleView",
            "description_width": ""
          }
        }
      }
    }
  },
  "cells": [
    {
      "cell_type": "code",
      "source": [
        "!pip install --upgrade gdown\n",
        "!pip install catboost\n",
        "!pip3 install optuna"
      ],
      "metadata": {
        "id": "YEDycn7ttjl4",
        "colab": {
          "base_uri": "https://localhost:8080/"
        },
        "outputId": "2cf43dd3-8884-443d-8890-af1ffa0bb97f"
      },
      "execution_count": 1,
      "outputs": [
        {
          "output_type": "stream",
          "name": "stdout",
          "text": [
            "Requirement already satisfied: gdown in /usr/local/lib/python3.10/dist-packages (4.7.3)\n",
            "Collecting gdown\n",
            "  Downloading gdown-5.1.0-py3-none-any.whl (17 kB)\n",
            "Requirement already satisfied: beautifulsoup4 in /usr/local/lib/python3.10/dist-packages (from gdown) (4.12.3)\n",
            "Requirement already satisfied: filelock in /usr/local/lib/python3.10/dist-packages (from gdown) (3.13.1)\n",
            "Requirement already satisfied: requests[socks] in /usr/local/lib/python3.10/dist-packages (from gdown) (2.31.0)\n",
            "Requirement already satisfied: tqdm in /usr/local/lib/python3.10/dist-packages (from gdown) (4.66.2)\n",
            "Requirement already satisfied: soupsieve>1.2 in /usr/local/lib/python3.10/dist-packages (from beautifulsoup4->gdown) (2.5)\n",
            "Requirement already satisfied: charset-normalizer<4,>=2 in /usr/local/lib/python3.10/dist-packages (from requests[socks]->gdown) (3.3.2)\n",
            "Requirement already satisfied: idna<4,>=2.5 in /usr/local/lib/python3.10/dist-packages (from requests[socks]->gdown) (3.6)\n",
            "Requirement already satisfied: urllib3<3,>=1.21.1 in /usr/local/lib/python3.10/dist-packages (from requests[socks]->gdown) (2.0.7)\n",
            "Requirement already satisfied: certifi>=2017.4.17 in /usr/local/lib/python3.10/dist-packages (from requests[socks]->gdown) (2024.2.2)\n",
            "Requirement already satisfied: PySocks!=1.5.7,>=1.5.6 in /usr/local/lib/python3.10/dist-packages (from requests[socks]->gdown) (1.7.1)\n",
            "Installing collected packages: gdown\n",
            "  Attempting uninstall: gdown\n",
            "    Found existing installation: gdown 4.7.3\n",
            "    Uninstalling gdown-4.7.3:\n",
            "      Successfully uninstalled gdown-4.7.3\n",
            "Successfully installed gdown-5.1.0\n",
            "Collecting catboost\n",
            "  Downloading catboost-1.2.3-cp310-cp310-manylinux2014_x86_64.whl (98.5 MB)\n",
            "\u001b[2K     \u001b[90m━━━━━━━━━━━━━━━━━━━━━━━━━━━━━━━━━━━━━━━━\u001b[0m \u001b[32m98.5/98.5 MB\u001b[0m \u001b[31m5.3 MB/s\u001b[0m eta \u001b[36m0:00:00\u001b[0m\n",
            "\u001b[?25hRequirement already satisfied: graphviz in /usr/local/lib/python3.10/dist-packages (from catboost) (0.20.1)\n",
            "Requirement already satisfied: matplotlib in /usr/local/lib/python3.10/dist-packages (from catboost) (3.7.1)\n",
            "Requirement already satisfied: numpy>=1.16.0 in /usr/local/lib/python3.10/dist-packages (from catboost) (1.25.2)\n",
            "Requirement already satisfied: pandas>=0.24 in /usr/local/lib/python3.10/dist-packages (from catboost) (1.5.3)\n",
            "Requirement already satisfied: scipy in /usr/local/lib/python3.10/dist-packages (from catboost) (1.11.4)\n",
            "Requirement already satisfied: plotly in /usr/local/lib/python3.10/dist-packages (from catboost) (5.15.0)\n",
            "Requirement already satisfied: six in /usr/local/lib/python3.10/dist-packages (from catboost) (1.16.0)\n",
            "Requirement already satisfied: python-dateutil>=2.8.1 in /usr/local/lib/python3.10/dist-packages (from pandas>=0.24->catboost) (2.8.2)\n",
            "Requirement already satisfied: pytz>=2020.1 in /usr/local/lib/python3.10/dist-packages (from pandas>=0.24->catboost) (2023.4)\n",
            "Requirement already satisfied: contourpy>=1.0.1 in /usr/local/lib/python3.10/dist-packages (from matplotlib->catboost) (1.2.0)\n",
            "Requirement already satisfied: cycler>=0.10 in /usr/local/lib/python3.10/dist-packages (from matplotlib->catboost) (0.12.1)\n",
            "Requirement already satisfied: fonttools>=4.22.0 in /usr/local/lib/python3.10/dist-packages (from matplotlib->catboost) (4.49.0)\n",
            "Requirement already satisfied: kiwisolver>=1.0.1 in /usr/local/lib/python3.10/dist-packages (from matplotlib->catboost) (1.4.5)\n",
            "Requirement already satisfied: packaging>=20.0 in /usr/local/lib/python3.10/dist-packages (from matplotlib->catboost) (23.2)\n",
            "Requirement already satisfied: pillow>=6.2.0 in /usr/local/lib/python3.10/dist-packages (from matplotlib->catboost) (9.4.0)\n",
            "Requirement already satisfied: pyparsing>=2.3.1 in /usr/local/lib/python3.10/dist-packages (from matplotlib->catboost) (3.1.2)\n",
            "Requirement already satisfied: tenacity>=6.2.0 in /usr/local/lib/python3.10/dist-packages (from plotly->catboost) (8.2.3)\n",
            "Installing collected packages: catboost\n",
            "Successfully installed catboost-1.2.3\n",
            "Collecting optuna\n",
            "  Downloading optuna-3.5.0-py3-none-any.whl (413 kB)\n",
            "\u001b[2K     \u001b[90m━━━━━━━━━━━━━━━━━━━━━━━━━━━━━━━━━━━━━━━━\u001b[0m \u001b[32m413.4/413.4 kB\u001b[0m \u001b[31m3.1 MB/s\u001b[0m eta \u001b[36m0:00:00\u001b[0m\n",
            "\u001b[?25hCollecting alembic>=1.5.0 (from optuna)\n",
            "  Downloading alembic-1.13.1-py3-none-any.whl (233 kB)\n",
            "\u001b[2K     \u001b[90m━━━━━━━━━━━━━━━━━━━━━━━━━━━━━━━━━━━━━━━━\u001b[0m \u001b[32m233.4/233.4 kB\u001b[0m \u001b[31m9.3 MB/s\u001b[0m eta \u001b[36m0:00:00\u001b[0m\n",
            "\u001b[?25hCollecting colorlog (from optuna)\n",
            "  Downloading colorlog-6.8.2-py3-none-any.whl (11 kB)\n",
            "Requirement already satisfied: numpy in /usr/local/lib/python3.10/dist-packages (from optuna) (1.25.2)\n",
            "Requirement already satisfied: packaging>=20.0 in /usr/local/lib/python3.10/dist-packages (from optuna) (23.2)\n",
            "Requirement already satisfied: sqlalchemy>=1.3.0 in /usr/local/lib/python3.10/dist-packages (from optuna) (2.0.28)\n",
            "Requirement already satisfied: tqdm in /usr/local/lib/python3.10/dist-packages (from optuna) (4.66.2)\n",
            "Requirement already satisfied: PyYAML in /usr/local/lib/python3.10/dist-packages (from optuna) (6.0.1)\n",
            "Collecting Mako (from alembic>=1.5.0->optuna)\n",
            "  Downloading Mako-1.3.2-py3-none-any.whl (78 kB)\n",
            "\u001b[2K     \u001b[90m━━━━━━━━━━━━━━━━━━━━━━━━━━━━━━━━━━━━━━━━\u001b[0m \u001b[32m78.7/78.7 kB\u001b[0m \u001b[31m7.9 MB/s\u001b[0m eta \u001b[36m0:00:00\u001b[0m\n",
            "\u001b[?25hRequirement already satisfied: typing-extensions>=4 in /usr/local/lib/python3.10/dist-packages (from alembic>=1.5.0->optuna) (4.10.0)\n",
            "Requirement already satisfied: greenlet!=0.4.17 in /usr/local/lib/python3.10/dist-packages (from sqlalchemy>=1.3.0->optuna) (3.0.3)\n",
            "Requirement already satisfied: MarkupSafe>=0.9.2 in /usr/local/lib/python3.10/dist-packages (from Mako->alembic>=1.5.0->optuna) (2.1.5)\n",
            "Installing collected packages: Mako, colorlog, alembic, optuna\n",
            "Successfully installed Mako-1.3.2 alembic-1.13.1 colorlog-6.8.2 optuna-3.5.0\n"
          ]
        }
      ]
    },
    {
      "cell_type": "code",
      "execution_count": 161,
      "metadata": {
        "id": "oybd6nkdThyo"
      },
      "outputs": [],
      "source": [
        "import numpy as np\n",
        "import pandas as pd\n",
        "import gdown\n",
        "from catboost import CatBoostClassifier\n",
        "from sklearn.metrics  import roc_auc_score\n",
        "from sklearn.metrics import ndcg_score\n",
        "import matplotlib.pyplot as plt\n",
        "from sklearn.model_selection import StratifiedKFold\n",
        "from sklearn.model_selection import train_test_split\n",
        "\n",
        "from sklearn.metrics import classification_report\n",
        "\n",
        "import optuna\n",
        "from optuna.samplers import TPESampler\n",
        "import catboost\n",
        "import pickle\n",
        "import seaborn as sns\n",
        "import matplotlib.pyplot as plt\n",
        "from sklearn.pipeline import Pipeline\n",
        "from sklearn.decomposition import PCA\n",
        "from sklearn.preprocessing import StandardScaler\n",
        "\n",
        "from sklearn.feature_selection import SelectFromModel\n",
        "from sklearn.linear_model import LogisticRegression"
      ]
    },
    {
      "cell_type": "code",
      "source": [
        "!gdown 17ReWp93rAKo2UMT0Xe9Vri2DhnwCVYHt\n",
        "!gdown 1TJmPMOXubS3uPR-z_BWWK397KjaPtQXQ"
      ],
      "metadata": {
        "colab": {
          "base_uri": "https://localhost:8080/"
        },
        "id": "HEVX8PCGt6NA",
        "outputId": "46133ac6-d046-41d1-cc92-677cebc60501"
      },
      "execution_count": 3,
      "outputs": [
        {
          "output_type": "stream",
          "name": "stdout",
          "text": [
            "Downloading...\n",
            "From: https://drive.google.com/uc?id=17ReWp93rAKo2UMT0Xe9Vri2DhnwCVYHt\n",
            "To: /content/train_df (2).csv\n",
            "100% 7.22M/7.22M [00:00<00:00, 89.6MB/s]\n",
            "Downloading...\n",
            "From: https://drive.google.com/uc?id=1TJmPMOXubS3uPR-z_BWWK397KjaPtQXQ\n",
            "To: /content/test_df (3).csv\n",
            "100% 730k/730k [00:00<00:00, 105MB/s]\n"
          ]
        }
      ]
    },
    {
      "cell_type": "code",
      "source": [
        "train = pd.read_csv('/content/train_df (2).csv')\n",
        "test = pd.read_csv('/content/test_df (3).csv')\n",
        "print('Конец теста')\n",
        "display(test.tail())\n",
        "print('Конец трейна')\n",
        "display(train.tail())"
      ],
      "metadata": {
        "colab": {
          "base_uri": "https://localhost:8080/",
          "height": 508
        },
        "id": "vXZE6F_Xz8h3",
        "outputId": "907d7773-3fbd-4f12-a817-40a8903a4315"
      },
      "execution_count": 4,
      "outputs": [
        {
          "output_type": "stream",
          "name": "stdout",
          "text": [
            "Конец теста\n"
          ]
        },
        {
          "output_type": "display_data",
          "data": {
            "text/plain": [
              "      search_id  feature_0  feature_1  feature_2  feature_3  feature_4  \\\n",
              "1524     493078          9          0          0          0          9   \n",
              "1525     493078          9          0          0          0          9   \n",
              "1526     493078          9          0          0          0          9   \n",
              "1527     493078          9          0          0          0          9   \n",
              "1528     493078          9          0          0          0          9   \n",
              "\n",
              "      feature_5  feature_6  feature_7  feature_8  ...  feature_70  feature_71  \\\n",
              "1524          4         35          0          0  ...    0.341683    0.067348   \n",
              "1525          4         35          0          0  ...    0.270293    0.049000   \n",
              "1526          4         35          0          0  ...    0.372268    0.069882   \n",
              "1527          4         35          0          0  ...    0.355755    0.077469   \n",
              "1528          4         35          0          0  ...    0.260349    0.068786   \n",
              "\n",
              "      feature_72  feature_73  feature_74  feature_75  feature_76  feature_77  \\\n",
              "1524    0.023012           0           0           0     0.46108         0.0   \n",
              "1525    0.013244           0           0           0     0.03674         0.0   \n",
              "1526    0.026015           0           0           0     0.14540         0.0   \n",
              "1527    0.027560           0           0           0     0.21288         0.0   \n",
              "1528    0.017908           0           0           0     0.20751         0.0   \n",
              "\n",
              "      feature_78  target  \n",
              "1524         0.0       0  \n",
              "1525         0.0       0  \n",
              "1526         0.0       1  \n",
              "1527         0.0       1  \n",
              "1528         0.0       0  \n",
              "\n",
              "[5 rows x 81 columns]"
            ],
            "text/html": [
              "\n",
              "  <div id=\"df-1fb0a015-1d13-4217-8ffd-8d0c5bbf6031\" class=\"colab-df-container\">\n",
              "    <div>\n",
              "<style scoped>\n",
              "    .dataframe tbody tr th:only-of-type {\n",
              "        vertical-align: middle;\n",
              "    }\n",
              "\n",
              "    .dataframe tbody tr th {\n",
              "        vertical-align: top;\n",
              "    }\n",
              "\n",
              "    .dataframe thead th {\n",
              "        text-align: right;\n",
              "    }\n",
              "</style>\n",
              "<table border=\"1\" class=\"dataframe\">\n",
              "  <thead>\n",
              "    <tr style=\"text-align: right;\">\n",
              "      <th></th>\n",
              "      <th>search_id</th>\n",
              "      <th>feature_0</th>\n",
              "      <th>feature_1</th>\n",
              "      <th>feature_2</th>\n",
              "      <th>feature_3</th>\n",
              "      <th>feature_4</th>\n",
              "      <th>feature_5</th>\n",
              "      <th>feature_6</th>\n",
              "      <th>feature_7</th>\n",
              "      <th>feature_8</th>\n",
              "      <th>...</th>\n",
              "      <th>feature_70</th>\n",
              "      <th>feature_71</th>\n",
              "      <th>feature_72</th>\n",
              "      <th>feature_73</th>\n",
              "      <th>feature_74</th>\n",
              "      <th>feature_75</th>\n",
              "      <th>feature_76</th>\n",
              "      <th>feature_77</th>\n",
              "      <th>feature_78</th>\n",
              "      <th>target</th>\n",
              "    </tr>\n",
              "  </thead>\n",
              "  <tbody>\n",
              "    <tr>\n",
              "      <th>1524</th>\n",
              "      <td>493078</td>\n",
              "      <td>9</td>\n",
              "      <td>0</td>\n",
              "      <td>0</td>\n",
              "      <td>0</td>\n",
              "      <td>9</td>\n",
              "      <td>4</td>\n",
              "      <td>35</td>\n",
              "      <td>0</td>\n",
              "      <td>0</td>\n",
              "      <td>...</td>\n",
              "      <td>0.341683</td>\n",
              "      <td>0.067348</td>\n",
              "      <td>0.023012</td>\n",
              "      <td>0</td>\n",
              "      <td>0</td>\n",
              "      <td>0</td>\n",
              "      <td>0.46108</td>\n",
              "      <td>0.0</td>\n",
              "      <td>0.0</td>\n",
              "      <td>0</td>\n",
              "    </tr>\n",
              "    <tr>\n",
              "      <th>1525</th>\n",
              "      <td>493078</td>\n",
              "      <td>9</td>\n",
              "      <td>0</td>\n",
              "      <td>0</td>\n",
              "      <td>0</td>\n",
              "      <td>9</td>\n",
              "      <td>4</td>\n",
              "      <td>35</td>\n",
              "      <td>0</td>\n",
              "      <td>0</td>\n",
              "      <td>...</td>\n",
              "      <td>0.270293</td>\n",
              "      <td>0.049000</td>\n",
              "      <td>0.013244</td>\n",
              "      <td>0</td>\n",
              "      <td>0</td>\n",
              "      <td>0</td>\n",
              "      <td>0.03674</td>\n",
              "      <td>0.0</td>\n",
              "      <td>0.0</td>\n",
              "      <td>0</td>\n",
              "    </tr>\n",
              "    <tr>\n",
              "      <th>1526</th>\n",
              "      <td>493078</td>\n",
              "      <td>9</td>\n",
              "      <td>0</td>\n",
              "      <td>0</td>\n",
              "      <td>0</td>\n",
              "      <td>9</td>\n",
              "      <td>4</td>\n",
              "      <td>35</td>\n",
              "      <td>0</td>\n",
              "      <td>0</td>\n",
              "      <td>...</td>\n",
              "      <td>0.372268</td>\n",
              "      <td>0.069882</td>\n",
              "      <td>0.026015</td>\n",
              "      <td>0</td>\n",
              "      <td>0</td>\n",
              "      <td>0</td>\n",
              "      <td>0.14540</td>\n",
              "      <td>0.0</td>\n",
              "      <td>0.0</td>\n",
              "      <td>1</td>\n",
              "    </tr>\n",
              "    <tr>\n",
              "      <th>1527</th>\n",
              "      <td>493078</td>\n",
              "      <td>9</td>\n",
              "      <td>0</td>\n",
              "      <td>0</td>\n",
              "      <td>0</td>\n",
              "      <td>9</td>\n",
              "      <td>4</td>\n",
              "      <td>35</td>\n",
              "      <td>0</td>\n",
              "      <td>0</td>\n",
              "      <td>...</td>\n",
              "      <td>0.355755</td>\n",
              "      <td>0.077469</td>\n",
              "      <td>0.027560</td>\n",
              "      <td>0</td>\n",
              "      <td>0</td>\n",
              "      <td>0</td>\n",
              "      <td>0.21288</td>\n",
              "      <td>0.0</td>\n",
              "      <td>0.0</td>\n",
              "      <td>1</td>\n",
              "    </tr>\n",
              "    <tr>\n",
              "      <th>1528</th>\n",
              "      <td>493078</td>\n",
              "      <td>9</td>\n",
              "      <td>0</td>\n",
              "      <td>0</td>\n",
              "      <td>0</td>\n",
              "      <td>9</td>\n",
              "      <td>4</td>\n",
              "      <td>35</td>\n",
              "      <td>0</td>\n",
              "      <td>0</td>\n",
              "      <td>...</td>\n",
              "      <td>0.260349</td>\n",
              "      <td>0.068786</td>\n",
              "      <td>0.017908</td>\n",
              "      <td>0</td>\n",
              "      <td>0</td>\n",
              "      <td>0</td>\n",
              "      <td>0.20751</td>\n",
              "      <td>0.0</td>\n",
              "      <td>0.0</td>\n",
              "      <td>0</td>\n",
              "    </tr>\n",
              "  </tbody>\n",
              "</table>\n",
              "<p>5 rows × 81 columns</p>\n",
              "</div>\n",
              "    <div class=\"colab-df-buttons\">\n",
              "\n",
              "  <div class=\"colab-df-container\">\n",
              "    <button class=\"colab-df-convert\" onclick=\"convertToInteractive('df-1fb0a015-1d13-4217-8ffd-8d0c5bbf6031')\"\n",
              "            title=\"Convert this dataframe to an interactive table.\"\n",
              "            style=\"display:none;\">\n",
              "\n",
              "  <svg xmlns=\"http://www.w3.org/2000/svg\" height=\"24px\" viewBox=\"0 -960 960 960\">\n",
              "    <path d=\"M120-120v-720h720v720H120Zm60-500h600v-160H180v160Zm220 220h160v-160H400v160Zm0 220h160v-160H400v160ZM180-400h160v-160H180v160Zm440 0h160v-160H620v160ZM180-180h160v-160H180v160Zm440 0h160v-160H620v160Z\"/>\n",
              "  </svg>\n",
              "    </button>\n",
              "\n",
              "  <style>\n",
              "    .colab-df-container {\n",
              "      display:flex;\n",
              "      gap: 12px;\n",
              "    }\n",
              "\n",
              "    .colab-df-convert {\n",
              "      background-color: #E8F0FE;\n",
              "      border: none;\n",
              "      border-radius: 50%;\n",
              "      cursor: pointer;\n",
              "      display: none;\n",
              "      fill: #1967D2;\n",
              "      height: 32px;\n",
              "      padding: 0 0 0 0;\n",
              "      width: 32px;\n",
              "    }\n",
              "\n",
              "    .colab-df-convert:hover {\n",
              "      background-color: #E2EBFA;\n",
              "      box-shadow: 0px 1px 2px rgba(60, 64, 67, 0.3), 0px 1px 3px 1px rgba(60, 64, 67, 0.15);\n",
              "      fill: #174EA6;\n",
              "    }\n",
              "\n",
              "    .colab-df-buttons div {\n",
              "      margin-bottom: 4px;\n",
              "    }\n",
              "\n",
              "    [theme=dark] .colab-df-convert {\n",
              "      background-color: #3B4455;\n",
              "      fill: #D2E3FC;\n",
              "    }\n",
              "\n",
              "    [theme=dark] .colab-df-convert:hover {\n",
              "      background-color: #434B5C;\n",
              "      box-shadow: 0px 1px 3px 1px rgba(0, 0, 0, 0.15);\n",
              "      filter: drop-shadow(0px 1px 2px rgba(0, 0, 0, 0.3));\n",
              "      fill: #FFFFFF;\n",
              "    }\n",
              "  </style>\n",
              "\n",
              "    <script>\n",
              "      const buttonEl =\n",
              "        document.querySelector('#df-1fb0a015-1d13-4217-8ffd-8d0c5bbf6031 button.colab-df-convert');\n",
              "      buttonEl.style.display =\n",
              "        google.colab.kernel.accessAllowed ? 'block' : 'none';\n",
              "\n",
              "      async function convertToInteractive(key) {\n",
              "        const element = document.querySelector('#df-1fb0a015-1d13-4217-8ffd-8d0c5bbf6031');\n",
              "        const dataTable =\n",
              "          await google.colab.kernel.invokeFunction('convertToInteractive',\n",
              "                                                    [key], {});\n",
              "        if (!dataTable) return;\n",
              "\n",
              "        const docLinkHtml = 'Like what you see? Visit the ' +\n",
              "          '<a target=\"_blank\" href=https://colab.research.google.com/notebooks/data_table.ipynb>data table notebook</a>'\n",
              "          + ' to learn more about interactive tables.';\n",
              "        element.innerHTML = '';\n",
              "        dataTable['output_type'] = 'display_data';\n",
              "        await google.colab.output.renderOutput(dataTable, element);\n",
              "        const docLink = document.createElement('div');\n",
              "        docLink.innerHTML = docLinkHtml;\n",
              "        element.appendChild(docLink);\n",
              "      }\n",
              "    </script>\n",
              "  </div>\n",
              "\n",
              "\n",
              "<div id=\"df-71968670-c848-4206-aecc-a9e6c45a153e\">\n",
              "  <button class=\"colab-df-quickchart\" onclick=\"quickchart('df-71968670-c848-4206-aecc-a9e6c45a153e')\"\n",
              "            title=\"Suggest charts\"\n",
              "            style=\"display:none;\">\n",
              "\n",
              "<svg xmlns=\"http://www.w3.org/2000/svg\" height=\"24px\"viewBox=\"0 0 24 24\"\n",
              "     width=\"24px\">\n",
              "    <g>\n",
              "        <path d=\"M19 3H5c-1.1 0-2 .9-2 2v14c0 1.1.9 2 2 2h14c1.1 0 2-.9 2-2V5c0-1.1-.9-2-2-2zM9 17H7v-7h2v7zm4 0h-2V7h2v10zm4 0h-2v-4h2v4z\"/>\n",
              "    </g>\n",
              "</svg>\n",
              "  </button>\n",
              "\n",
              "<style>\n",
              "  .colab-df-quickchart {\n",
              "      --bg-color: #E8F0FE;\n",
              "      --fill-color: #1967D2;\n",
              "      --hover-bg-color: #E2EBFA;\n",
              "      --hover-fill-color: #174EA6;\n",
              "      --disabled-fill-color: #AAA;\n",
              "      --disabled-bg-color: #DDD;\n",
              "  }\n",
              "\n",
              "  [theme=dark] .colab-df-quickchart {\n",
              "      --bg-color: #3B4455;\n",
              "      --fill-color: #D2E3FC;\n",
              "      --hover-bg-color: #434B5C;\n",
              "      --hover-fill-color: #FFFFFF;\n",
              "      --disabled-bg-color: #3B4455;\n",
              "      --disabled-fill-color: #666;\n",
              "  }\n",
              "\n",
              "  .colab-df-quickchart {\n",
              "    background-color: var(--bg-color);\n",
              "    border: none;\n",
              "    border-radius: 50%;\n",
              "    cursor: pointer;\n",
              "    display: none;\n",
              "    fill: var(--fill-color);\n",
              "    height: 32px;\n",
              "    padding: 0;\n",
              "    width: 32px;\n",
              "  }\n",
              "\n",
              "  .colab-df-quickchart:hover {\n",
              "    background-color: var(--hover-bg-color);\n",
              "    box-shadow: 0 1px 2px rgba(60, 64, 67, 0.3), 0 1px 3px 1px rgba(60, 64, 67, 0.15);\n",
              "    fill: var(--button-hover-fill-color);\n",
              "  }\n",
              "\n",
              "  .colab-df-quickchart-complete:disabled,\n",
              "  .colab-df-quickchart-complete:disabled:hover {\n",
              "    background-color: var(--disabled-bg-color);\n",
              "    fill: var(--disabled-fill-color);\n",
              "    box-shadow: none;\n",
              "  }\n",
              "\n",
              "  .colab-df-spinner {\n",
              "    border: 2px solid var(--fill-color);\n",
              "    border-color: transparent;\n",
              "    border-bottom-color: var(--fill-color);\n",
              "    animation:\n",
              "      spin 1s steps(1) infinite;\n",
              "  }\n",
              "\n",
              "  @keyframes spin {\n",
              "    0% {\n",
              "      border-color: transparent;\n",
              "      border-bottom-color: var(--fill-color);\n",
              "      border-left-color: var(--fill-color);\n",
              "    }\n",
              "    20% {\n",
              "      border-color: transparent;\n",
              "      border-left-color: var(--fill-color);\n",
              "      border-top-color: var(--fill-color);\n",
              "    }\n",
              "    30% {\n",
              "      border-color: transparent;\n",
              "      border-left-color: var(--fill-color);\n",
              "      border-top-color: var(--fill-color);\n",
              "      border-right-color: var(--fill-color);\n",
              "    }\n",
              "    40% {\n",
              "      border-color: transparent;\n",
              "      border-right-color: var(--fill-color);\n",
              "      border-top-color: var(--fill-color);\n",
              "    }\n",
              "    60% {\n",
              "      border-color: transparent;\n",
              "      border-right-color: var(--fill-color);\n",
              "    }\n",
              "    80% {\n",
              "      border-color: transparent;\n",
              "      border-right-color: var(--fill-color);\n",
              "      border-bottom-color: var(--fill-color);\n",
              "    }\n",
              "    90% {\n",
              "      border-color: transparent;\n",
              "      border-bottom-color: var(--fill-color);\n",
              "    }\n",
              "  }\n",
              "</style>\n",
              "\n",
              "  <script>\n",
              "    async function quickchart(key) {\n",
              "      const quickchartButtonEl =\n",
              "        document.querySelector('#' + key + ' button');\n",
              "      quickchartButtonEl.disabled = true;  // To prevent multiple clicks.\n",
              "      quickchartButtonEl.classList.add('colab-df-spinner');\n",
              "      try {\n",
              "        const charts = await google.colab.kernel.invokeFunction(\n",
              "            'suggestCharts', [key], {});\n",
              "      } catch (error) {\n",
              "        console.error('Error during call to suggestCharts:', error);\n",
              "      }\n",
              "      quickchartButtonEl.classList.remove('colab-df-spinner');\n",
              "      quickchartButtonEl.classList.add('colab-df-quickchart-complete');\n",
              "    }\n",
              "    (() => {\n",
              "      let quickchartButtonEl =\n",
              "        document.querySelector('#df-71968670-c848-4206-aecc-a9e6c45a153e button');\n",
              "      quickchartButtonEl.style.display =\n",
              "        google.colab.kernel.accessAllowed ? 'block' : 'none';\n",
              "    })();\n",
              "  </script>\n",
              "</div>\n",
              "    </div>\n",
              "  </div>\n"
            ],
            "application/vnd.google.colaboratory.intrinsic+json": {
              "type": "dataframe"
            }
          },
          "metadata": {}
        },
        {
          "output_type": "stream",
          "name": "stdout",
          "text": [
            "Конец трейна\n"
          ]
        },
        {
          "output_type": "display_data",
          "data": {
            "text/plain": [
              "       search_id  feature_0  feature_1  feature_2  feature_3  feature_4  \\\n",
              "15076     494693          9          0          0          0          9   \n",
              "15077     494693          9          0          0          0          9   \n",
              "15078     494693          9          0          0          0          9   \n",
              "15079     494693          9          0          0          0          9   \n",
              "15080     494693          9          0          0          0          9   \n",
              "\n",
              "       feature_5  feature_6  feature_7  feature_8  ...  feature_70  \\\n",
              "15076          4         38          6          6  ...    0.309672   \n",
              "15077          4         38          6          6  ...    0.303805   \n",
              "15078          4         38          6          6  ...    0.346538   \n",
              "15079          4         38          6          6  ...    0.243154   \n",
              "15080          4         38          6          6  ...    0.294564   \n",
              "\n",
              "       feature_71  feature_72  feature_73  feature_74  feature_75  feature_76  \\\n",
              "15076    0.921060    0.285226           0           0           0     0.98807   \n",
              "15077    0.995086    0.302312           0           0           0     0.87146   \n",
              "15078    0.993070    0.344137           0           0           0     0.49999   \n",
              "15079    0.994833    0.241898           0           0           0     0.67614   \n",
              "15080    0.987208    0.290796           0           0           0     0.53674   \n",
              "\n",
              "       feature_77  feature_78  target  \n",
              "15076         0.0         0.0       0  \n",
              "15077         0.0         0.0       0  \n",
              "15078         0.0         0.0       0  \n",
              "15079         0.0         0.0       0  \n",
              "15080         0.0         0.0       1  \n",
              "\n",
              "[5 rows x 81 columns]"
            ],
            "text/html": [
              "\n",
              "  <div id=\"df-0b6de313-ca5f-4e90-a7e3-bae683a926d5\" class=\"colab-df-container\">\n",
              "    <div>\n",
              "<style scoped>\n",
              "    .dataframe tbody tr th:only-of-type {\n",
              "        vertical-align: middle;\n",
              "    }\n",
              "\n",
              "    .dataframe tbody tr th {\n",
              "        vertical-align: top;\n",
              "    }\n",
              "\n",
              "    .dataframe thead th {\n",
              "        text-align: right;\n",
              "    }\n",
              "</style>\n",
              "<table border=\"1\" class=\"dataframe\">\n",
              "  <thead>\n",
              "    <tr style=\"text-align: right;\">\n",
              "      <th></th>\n",
              "      <th>search_id</th>\n",
              "      <th>feature_0</th>\n",
              "      <th>feature_1</th>\n",
              "      <th>feature_2</th>\n",
              "      <th>feature_3</th>\n",
              "      <th>feature_4</th>\n",
              "      <th>feature_5</th>\n",
              "      <th>feature_6</th>\n",
              "      <th>feature_7</th>\n",
              "      <th>feature_8</th>\n",
              "      <th>...</th>\n",
              "      <th>feature_70</th>\n",
              "      <th>feature_71</th>\n",
              "      <th>feature_72</th>\n",
              "      <th>feature_73</th>\n",
              "      <th>feature_74</th>\n",
              "      <th>feature_75</th>\n",
              "      <th>feature_76</th>\n",
              "      <th>feature_77</th>\n",
              "      <th>feature_78</th>\n",
              "      <th>target</th>\n",
              "    </tr>\n",
              "  </thead>\n",
              "  <tbody>\n",
              "    <tr>\n",
              "      <th>15076</th>\n",
              "      <td>494693</td>\n",
              "      <td>9</td>\n",
              "      <td>0</td>\n",
              "      <td>0</td>\n",
              "      <td>0</td>\n",
              "      <td>9</td>\n",
              "      <td>4</td>\n",
              "      <td>38</td>\n",
              "      <td>6</td>\n",
              "      <td>6</td>\n",
              "      <td>...</td>\n",
              "      <td>0.309672</td>\n",
              "      <td>0.921060</td>\n",
              "      <td>0.285226</td>\n",
              "      <td>0</td>\n",
              "      <td>0</td>\n",
              "      <td>0</td>\n",
              "      <td>0.98807</td>\n",
              "      <td>0.0</td>\n",
              "      <td>0.0</td>\n",
              "      <td>0</td>\n",
              "    </tr>\n",
              "    <tr>\n",
              "      <th>15077</th>\n",
              "      <td>494693</td>\n",
              "      <td>9</td>\n",
              "      <td>0</td>\n",
              "      <td>0</td>\n",
              "      <td>0</td>\n",
              "      <td>9</td>\n",
              "      <td>4</td>\n",
              "      <td>38</td>\n",
              "      <td>6</td>\n",
              "      <td>6</td>\n",
              "      <td>...</td>\n",
              "      <td>0.303805</td>\n",
              "      <td>0.995086</td>\n",
              "      <td>0.302312</td>\n",
              "      <td>0</td>\n",
              "      <td>0</td>\n",
              "      <td>0</td>\n",
              "      <td>0.87146</td>\n",
              "      <td>0.0</td>\n",
              "      <td>0.0</td>\n",
              "      <td>0</td>\n",
              "    </tr>\n",
              "    <tr>\n",
              "      <th>15078</th>\n",
              "      <td>494693</td>\n",
              "      <td>9</td>\n",
              "      <td>0</td>\n",
              "      <td>0</td>\n",
              "      <td>0</td>\n",
              "      <td>9</td>\n",
              "      <td>4</td>\n",
              "      <td>38</td>\n",
              "      <td>6</td>\n",
              "      <td>6</td>\n",
              "      <td>...</td>\n",
              "      <td>0.346538</td>\n",
              "      <td>0.993070</td>\n",
              "      <td>0.344137</td>\n",
              "      <td>0</td>\n",
              "      <td>0</td>\n",
              "      <td>0</td>\n",
              "      <td>0.49999</td>\n",
              "      <td>0.0</td>\n",
              "      <td>0.0</td>\n",
              "      <td>0</td>\n",
              "    </tr>\n",
              "    <tr>\n",
              "      <th>15079</th>\n",
              "      <td>494693</td>\n",
              "      <td>9</td>\n",
              "      <td>0</td>\n",
              "      <td>0</td>\n",
              "      <td>0</td>\n",
              "      <td>9</td>\n",
              "      <td>4</td>\n",
              "      <td>38</td>\n",
              "      <td>6</td>\n",
              "      <td>6</td>\n",
              "      <td>...</td>\n",
              "      <td>0.243154</td>\n",
              "      <td>0.994833</td>\n",
              "      <td>0.241898</td>\n",
              "      <td>0</td>\n",
              "      <td>0</td>\n",
              "      <td>0</td>\n",
              "      <td>0.67614</td>\n",
              "      <td>0.0</td>\n",
              "      <td>0.0</td>\n",
              "      <td>0</td>\n",
              "    </tr>\n",
              "    <tr>\n",
              "      <th>15080</th>\n",
              "      <td>494693</td>\n",
              "      <td>9</td>\n",
              "      <td>0</td>\n",
              "      <td>0</td>\n",
              "      <td>0</td>\n",
              "      <td>9</td>\n",
              "      <td>4</td>\n",
              "      <td>38</td>\n",
              "      <td>6</td>\n",
              "      <td>6</td>\n",
              "      <td>...</td>\n",
              "      <td>0.294564</td>\n",
              "      <td>0.987208</td>\n",
              "      <td>0.290796</td>\n",
              "      <td>0</td>\n",
              "      <td>0</td>\n",
              "      <td>0</td>\n",
              "      <td>0.53674</td>\n",
              "      <td>0.0</td>\n",
              "      <td>0.0</td>\n",
              "      <td>1</td>\n",
              "    </tr>\n",
              "  </tbody>\n",
              "</table>\n",
              "<p>5 rows × 81 columns</p>\n",
              "</div>\n",
              "    <div class=\"colab-df-buttons\">\n",
              "\n",
              "  <div class=\"colab-df-container\">\n",
              "    <button class=\"colab-df-convert\" onclick=\"convertToInteractive('df-0b6de313-ca5f-4e90-a7e3-bae683a926d5')\"\n",
              "            title=\"Convert this dataframe to an interactive table.\"\n",
              "            style=\"display:none;\">\n",
              "\n",
              "  <svg xmlns=\"http://www.w3.org/2000/svg\" height=\"24px\" viewBox=\"0 -960 960 960\">\n",
              "    <path d=\"M120-120v-720h720v720H120Zm60-500h600v-160H180v160Zm220 220h160v-160H400v160Zm0 220h160v-160H400v160ZM180-400h160v-160H180v160Zm440 0h160v-160H620v160ZM180-180h160v-160H180v160Zm440 0h160v-160H620v160Z\"/>\n",
              "  </svg>\n",
              "    </button>\n",
              "\n",
              "  <style>\n",
              "    .colab-df-container {\n",
              "      display:flex;\n",
              "      gap: 12px;\n",
              "    }\n",
              "\n",
              "    .colab-df-convert {\n",
              "      background-color: #E8F0FE;\n",
              "      border: none;\n",
              "      border-radius: 50%;\n",
              "      cursor: pointer;\n",
              "      display: none;\n",
              "      fill: #1967D2;\n",
              "      height: 32px;\n",
              "      padding: 0 0 0 0;\n",
              "      width: 32px;\n",
              "    }\n",
              "\n",
              "    .colab-df-convert:hover {\n",
              "      background-color: #E2EBFA;\n",
              "      box-shadow: 0px 1px 2px rgba(60, 64, 67, 0.3), 0px 1px 3px 1px rgba(60, 64, 67, 0.15);\n",
              "      fill: #174EA6;\n",
              "    }\n",
              "\n",
              "    .colab-df-buttons div {\n",
              "      margin-bottom: 4px;\n",
              "    }\n",
              "\n",
              "    [theme=dark] .colab-df-convert {\n",
              "      background-color: #3B4455;\n",
              "      fill: #D2E3FC;\n",
              "    }\n",
              "\n",
              "    [theme=dark] .colab-df-convert:hover {\n",
              "      background-color: #434B5C;\n",
              "      box-shadow: 0px 1px 3px 1px rgba(0, 0, 0, 0.15);\n",
              "      filter: drop-shadow(0px 1px 2px rgba(0, 0, 0, 0.3));\n",
              "      fill: #FFFFFF;\n",
              "    }\n",
              "  </style>\n",
              "\n",
              "    <script>\n",
              "      const buttonEl =\n",
              "        document.querySelector('#df-0b6de313-ca5f-4e90-a7e3-bae683a926d5 button.colab-df-convert');\n",
              "      buttonEl.style.display =\n",
              "        google.colab.kernel.accessAllowed ? 'block' : 'none';\n",
              "\n",
              "      async function convertToInteractive(key) {\n",
              "        const element = document.querySelector('#df-0b6de313-ca5f-4e90-a7e3-bae683a926d5');\n",
              "        const dataTable =\n",
              "          await google.colab.kernel.invokeFunction('convertToInteractive',\n",
              "                                                    [key], {});\n",
              "        if (!dataTable) return;\n",
              "\n",
              "        const docLinkHtml = 'Like what you see? Visit the ' +\n",
              "          '<a target=\"_blank\" href=https://colab.research.google.com/notebooks/data_table.ipynb>data table notebook</a>'\n",
              "          + ' to learn more about interactive tables.';\n",
              "        element.innerHTML = '';\n",
              "        dataTable['output_type'] = 'display_data';\n",
              "        await google.colab.output.renderOutput(dataTable, element);\n",
              "        const docLink = document.createElement('div');\n",
              "        docLink.innerHTML = docLinkHtml;\n",
              "        element.appendChild(docLink);\n",
              "      }\n",
              "    </script>\n",
              "  </div>\n",
              "\n",
              "\n",
              "<div id=\"df-01c5b82a-59a8-425d-913d-ae4119b964e5\">\n",
              "  <button class=\"colab-df-quickchart\" onclick=\"quickchart('df-01c5b82a-59a8-425d-913d-ae4119b964e5')\"\n",
              "            title=\"Suggest charts\"\n",
              "            style=\"display:none;\">\n",
              "\n",
              "<svg xmlns=\"http://www.w3.org/2000/svg\" height=\"24px\"viewBox=\"0 0 24 24\"\n",
              "     width=\"24px\">\n",
              "    <g>\n",
              "        <path d=\"M19 3H5c-1.1 0-2 .9-2 2v14c0 1.1.9 2 2 2h14c1.1 0 2-.9 2-2V5c0-1.1-.9-2-2-2zM9 17H7v-7h2v7zm4 0h-2V7h2v10zm4 0h-2v-4h2v4z\"/>\n",
              "    </g>\n",
              "</svg>\n",
              "  </button>\n",
              "\n",
              "<style>\n",
              "  .colab-df-quickchart {\n",
              "      --bg-color: #E8F0FE;\n",
              "      --fill-color: #1967D2;\n",
              "      --hover-bg-color: #E2EBFA;\n",
              "      --hover-fill-color: #174EA6;\n",
              "      --disabled-fill-color: #AAA;\n",
              "      --disabled-bg-color: #DDD;\n",
              "  }\n",
              "\n",
              "  [theme=dark] .colab-df-quickchart {\n",
              "      --bg-color: #3B4455;\n",
              "      --fill-color: #D2E3FC;\n",
              "      --hover-bg-color: #434B5C;\n",
              "      --hover-fill-color: #FFFFFF;\n",
              "      --disabled-bg-color: #3B4455;\n",
              "      --disabled-fill-color: #666;\n",
              "  }\n",
              "\n",
              "  .colab-df-quickchart {\n",
              "    background-color: var(--bg-color);\n",
              "    border: none;\n",
              "    border-radius: 50%;\n",
              "    cursor: pointer;\n",
              "    display: none;\n",
              "    fill: var(--fill-color);\n",
              "    height: 32px;\n",
              "    padding: 0;\n",
              "    width: 32px;\n",
              "  }\n",
              "\n",
              "  .colab-df-quickchart:hover {\n",
              "    background-color: var(--hover-bg-color);\n",
              "    box-shadow: 0 1px 2px rgba(60, 64, 67, 0.3), 0 1px 3px 1px rgba(60, 64, 67, 0.15);\n",
              "    fill: var(--button-hover-fill-color);\n",
              "  }\n",
              "\n",
              "  .colab-df-quickchart-complete:disabled,\n",
              "  .colab-df-quickchart-complete:disabled:hover {\n",
              "    background-color: var(--disabled-bg-color);\n",
              "    fill: var(--disabled-fill-color);\n",
              "    box-shadow: none;\n",
              "  }\n",
              "\n",
              "  .colab-df-spinner {\n",
              "    border: 2px solid var(--fill-color);\n",
              "    border-color: transparent;\n",
              "    border-bottom-color: var(--fill-color);\n",
              "    animation:\n",
              "      spin 1s steps(1) infinite;\n",
              "  }\n",
              "\n",
              "  @keyframes spin {\n",
              "    0% {\n",
              "      border-color: transparent;\n",
              "      border-bottom-color: var(--fill-color);\n",
              "      border-left-color: var(--fill-color);\n",
              "    }\n",
              "    20% {\n",
              "      border-color: transparent;\n",
              "      border-left-color: var(--fill-color);\n",
              "      border-top-color: var(--fill-color);\n",
              "    }\n",
              "    30% {\n",
              "      border-color: transparent;\n",
              "      border-left-color: var(--fill-color);\n",
              "      border-top-color: var(--fill-color);\n",
              "      border-right-color: var(--fill-color);\n",
              "    }\n",
              "    40% {\n",
              "      border-color: transparent;\n",
              "      border-right-color: var(--fill-color);\n",
              "      border-top-color: var(--fill-color);\n",
              "    }\n",
              "    60% {\n",
              "      border-color: transparent;\n",
              "      border-right-color: var(--fill-color);\n",
              "    }\n",
              "    80% {\n",
              "      border-color: transparent;\n",
              "      border-right-color: var(--fill-color);\n",
              "      border-bottom-color: var(--fill-color);\n",
              "    }\n",
              "    90% {\n",
              "      border-color: transparent;\n",
              "      border-bottom-color: var(--fill-color);\n",
              "    }\n",
              "  }\n",
              "</style>\n",
              "\n",
              "  <script>\n",
              "    async function quickchart(key) {\n",
              "      const quickchartButtonEl =\n",
              "        document.querySelector('#' + key + ' button');\n",
              "      quickchartButtonEl.disabled = true;  // To prevent multiple clicks.\n",
              "      quickchartButtonEl.classList.add('colab-df-spinner');\n",
              "      try {\n",
              "        const charts = await google.colab.kernel.invokeFunction(\n",
              "            'suggestCharts', [key], {});\n",
              "      } catch (error) {\n",
              "        console.error('Error during call to suggestCharts:', error);\n",
              "      }\n",
              "      quickchartButtonEl.classList.remove('colab-df-spinner');\n",
              "      quickchartButtonEl.classList.add('colab-df-quickchart-complete');\n",
              "    }\n",
              "    (() => {\n",
              "      let quickchartButtonEl =\n",
              "        document.querySelector('#df-01c5b82a-59a8-425d-913d-ae4119b964e5 button');\n",
              "      quickchartButtonEl.style.display =\n",
              "        google.colab.kernel.accessAllowed ? 'block' : 'none';\n",
              "    })();\n",
              "  </script>\n",
              "</div>\n",
              "    </div>\n",
              "  </div>\n"
            ],
            "application/vnd.google.colaboratory.intrinsic+json": {
              "type": "dataframe"
            }
          },
          "metadata": {}
        }
      ]
    },
    {
      "cell_type": "markdown",
      "source": [
        "Анализ данных"
      ],
      "metadata": {
        "id": "0g90-Xtnui9H"
      }
    },
    {
      "cell_type": "markdown",
      "source": [
        "**Предположение первое**\n",
        "Надо сделать рекомендации для валидных товаров  для каждого search_id, и соответственно посчитать метрику ndcg для каждого search_id\n",
        "\n"
      ],
      "metadata": {
        "id": "ukaxNyaVu003"
      }
    },
    {
      "cell_type": "code",
      "source": [
        "len(set(train['search_id']).intersection(test['search_id']))"
      ],
      "metadata": {
        "id": "U59L08lJgqD8",
        "colab": {
          "base_uri": "https://localhost:8080/"
        },
        "outputId": "b0cdd43d-a1d8-4349-dad3-10585827fff6"
      },
      "execution_count": 194,
      "outputs": [
        {
          "output_type": "execute_result",
          "data": {
            "text/plain": [
              "0"
            ]
          },
          "metadata": {},
          "execution_count": 194
        }
      ]
    },
    {
      "cell_type": "markdown",
      "source": [
        "Пересечений нет между тестом и трейном нет, поэтому будем считать метрику на всем множестве"
      ],
      "metadata": {
        "id": "J4EJ7wIb7K_8"
      }
    },
    {
      "cell_type": "code",
      "source": [
        "#Посмотрим на корреляции\n",
        "corr = train.corr()\n",
        "sorted(corr['target'], reverse = True)[:10]"
      ],
      "metadata": {
        "colab": {
          "base_uri": "https://localhost:8080/"
        },
        "id": "A2_c13GXQqQ3",
        "outputId": "e5081ca2-e8e2-41e2-bfa4-b6400e361cd5"
      },
      "execution_count": 199,
      "outputs": [
        {
          "output_type": "execute_result",
          "data": {
            "text/plain": [
              "[nan,\n",
              " 0.08584117796250261,\n",
              " 0.05024903604357184,\n",
              " 0.04712507611826474,\n",
              " 0.04655988658642063,\n",
              " 0.02547854627437983,\n",
              " 0.02355278959827514,\n",
              " 0.02288473543073835,\n",
              " 0.018337447875133344,\n",
              " 0.01688726034134971]"
            ]
          },
          "metadata": {},
          "execution_count": 199
        }
      ]
    },
    {
      "cell_type": "markdown",
      "source": [
        "Нормальных корреляций нет в принципе, сильно высоких результатов ждать не стоит"
      ],
      "metadata": {
        "id": "UtmxUmvqQrkK"
      }
    },
    {
      "cell_type": "code",
      "source": [
        "import numpy as np\n",
        "from sklearn.model_selection import train_test_split\n",
        "X_train = train.drop('target', axis =1)\n",
        "y_train = train['target']\n",
        "X_test = test.drop('target', axis =1)\n",
        "y_test = test['target']"
      ],
      "metadata": {
        "id": "Djz0DbrgDnfj"
      },
      "execution_count": 5,
      "outputs": []
    },
    {
      "cell_type": "markdown",
      "source": [
        "Посмотрим на дефолтные результаты catboost"
      ],
      "metadata": {
        "id": "FfH_Uy4U8tFe"
      }
    },
    {
      "cell_type": "code",
      "source": [
        "model = CatBoostClassifier().fit(X_train, y_train, verbose = False)\n",
        "a = np.asarray([y_test])\n",
        "b = np.asarray([model.predict_proba(X_test)[:, 1].tolist()])\n",
        "ndcg_score(a,b) # не 0 уже неплохо"
      ],
      "metadata": {
        "colab": {
          "base_uri": "https://localhost:8080/"
        },
        "id": "YLyXAg_kGT2b",
        "outputId": "bf7e6c55-a1dc-4bd0-b146-54c7cdfdfce4"
      },
      "execution_count": 201,
      "outputs": [
        {
          "output_type": "execute_result",
          "data": {
            "text/plain": [
              "0.49042530195652606"
            ]
          },
          "metadata": {},
          "execution_count": 201
        }
      ]
    },
    {
      "cell_type": "markdown",
      "source": [
        "Используем Optuna для того чтобы улучшить результат"
      ],
      "metadata": {
        "id": "JK-MbO8f9DB3"
      }
    },
    {
      "cell_type": "code",
      "source": [
        "def objective(trial, X_train = X_train, y_train = y_train):\n",
        "    model = catboost.CatBoostClassifier(\n",
        "        iterations=trial.suggest_int(\"iterations\", 100, 500),\n",
        "\n",
        "        depth=trial.suggest_int(\"depth\", 1, 8),\n",
        "        l2_leaf_reg=trial.suggest_float(\"l2_leaf_reg\", 1e-8, 100.0, log=True),\n",
        "        bootstrap_type=trial.suggest_categorical(\"bootstrap_type\", [\"Bayesian\"]),\n",
        "        random_strength=trial.suggest_float(\"random_strength\", 1e-8, 10.0, log=True),\n",
        "        bagging_temperature=trial.suggest_float(\"bagging_temperature\", 0.0, 10.0),\n",
        "        od_type=trial.suggest_categorical(\"od_type\", [\"IncToDec\", \"Iter\"]),\n",
        "        od_wait=trial.suggest_int(\"od_wait\", 10, 50),\n",
        "        verbose=False\n",
        "    )\n",
        "    skf = StratifiedKFold(n_splits=7, shuffle= True,  random_state=500) #оценивать гиперпараметры будем по валидационной выборке\n",
        "    result = [0]*7\n",
        "    for i, (train_index, test_index) in enumerate(skf.split(X_train, y_train)):\n",
        "\n",
        "      train_cv = X_train.iloc[train_index]\n",
        "      y_train_cv = y_train[train_index]\n",
        "      val_cv = X_train.iloc[test_index]\n",
        "      y_val_cv = y_train[test_index]\n",
        "\n",
        "      model.fit(train_cv, y_train_cv)\n",
        "\n",
        "      y_val_true = np.asarray([y_val_cv])\n",
        "      y_val_prediction = np.asarray([model.predict_proba(val_cv)[:, 1].tolist()])\n",
        "\n",
        "      result[i] = ndcg_score(y_val_true ,y_val_prediction)\n",
        "    return np.mean(result[i])\n",
        "optuna.logging.set_verbosity(optuna.logging.WARNING)\n",
        "\n",
        "sampler = TPESampler(seed=42)\n",
        "study = optuna.create_study(study_name=\"catboost\", direction=\"maximize\", sampler=sampler)\n",
        "study.optimize(objective, n_trials=100)"
      ],
      "metadata": {
        "id": "EI-6ClZPIj7F"
      },
      "execution_count": 202,
      "outputs": []
    },
    {
      "cell_type": "code",
      "source": [
        "print(\"Number of finished trials: \", len(study.trials))\n",
        "print(\"Best trial:\")\n",
        "trial = study.best_trial\n",
        "print(\"  Value: \", trial.value)\n",
        "print(\"  Params: \")\n",
        "for key, value in trial.params.items():\n",
        "    print(\"    {}: {}\".format(key, value))"
      ],
      "metadata": {
        "colab": {
          "base_uri": "https://localhost:8080/"
        },
        "id": "obeRkAtSpKNV",
        "outputId": "cd2c0a56-f38c-4850-ce86-4d9d849820e1"
      },
      "execution_count": null,
      "outputs": [
        {
          "output_type": "stream",
          "name": "stdout",
          "text": [
            "Number of finished trials:  100\n",
            "Best trial:\n",
            "  Value:  0.5790460786622601\n",
            "  Params: \n",
            "    iterations: 144\n",
            "    depth: 7\n",
            "    l2_leaf_reg: 0.499066358443914\n",
            "    bootstrap_type: Bayesian\n",
            "    random_strength: 1.099259825686884\n",
            "    bagging_temperature: 2.7157807207567646\n",
            "    od_type: Iter\n",
            "    od_wait: 20\n"
          ]
        }
      ]
    },
    {
      "cell_type": "code",
      "source": [
        "best_params = {\n",
        "    'iterations': 144,\n",
        "    'depth': 7,\n",
        "    'l2_leaf_reg': 0.499066358443914,\n",
        "    'bootstrap_type': 'Bayesian',\n",
        "    'random_strength': 1.099259825686884,\n",
        "    'bagging_temperature': 2.7157807207567646,\n",
        "    'od_type': 'Iter',\n",
        "    'od_wait': 20\n",
        "}\n",
        "model = catboost.CatBoostClassifier(**best_params, verbose=False)\n",
        "model.fit(X_train, y_train)\n",
        "a = np.asarray([y_test])\n",
        "b = np.asarray([model.predict_proba(X_test)[:, 1].tolist()])\n",
        "\n",
        "ndcg_score(a,b)"
      ],
      "metadata": {
        "colab": {
          "base_uri": "https://localhost:8080/"
        },
        "id": "wz4yEaGQyqPr",
        "outputId": "1219842f-4a18-44b0-b4b3-57b86a131089"
      },
      "execution_count": 205,
      "outputs": [
        {
          "output_type": "execute_result",
          "data": {
            "text/plain": [
              "0.5481227944553249"
            ]
          },
          "metadata": {},
          "execution_count": 205
        }
      ]
    },
    {
      "cell_type": "markdown",
      "source": [
        "Затратив миниум услий получили весомое улучшение, теперь посмотрим на значимость фичей"
      ],
      "metadata": {
        "id": "rsr4knhI-SBW"
      }
    },
    {
      "cell_type": "code",
      "source": [
        "importances = model1.get_feature_importance(type='PredictionValuesChange')\n",
        "feature_importances = pd.Series(importances, index=X_train.columns).sort_values()\n",
        "plt.figure(figsize=(10, 15))\n",
        "plt.barh(feature_importances.index, feature_importances.values)\n",
        "plt.title('CatBoost Feature Importance')\n",
        "plt.xlabel('Importance')\n",
        "plt.ylabel('Features')\n",
        "plt.show()"
      ],
      "metadata": {
        "colab": {
          "base_uri": "https://localhost:8080/",
          "height": 1000
        },
        "id": "8vPjIu7FoeFn",
        "outputId": "d33f75c4-8ea1-47cf-fe86-f4c390992000"
      },
      "execution_count": 109,
      "outputs": [
        {
          "output_type": "display_data",
          "data": {
            "text/plain": [
              "<Figure size 1000x1500 with 1 Axes>"
            ],
            "image/png": "[encoded data removed]"
          },
          "metadata": {}
        }
      ]
    },
    {
      "cell_type": "markdown",
      "source": [
        "Учитывая значимый разлет по важности признаков, вероятно, некоторые из них абсолютно бесполезны для этой задачи"
      ],
      "metadata": {
        "id": "5vYYesYh-qO1"
      }
    },
    {
      "cell_type": "markdown",
      "source": [
        "# Проведем отбор признаков"
      ],
      "metadata": {
        "id": "7RZRB9IGY4dy"
      }
    },
    {
      "cell_type": "markdown",
      "source": [
        "**Лирическое отступление:**\n",
        "\n",
        "Полноценный отбор признаков невозможен, так как фичи абсолютно не интерпретируемы"
      ],
      "metadata": {
        "id": "0qlxI3GB_Zx1"
      }
    },
    {
      "cell_type": "markdown",
      "source": [
        "Cделаем отбор при помощи Lasso"
      ],
      "metadata": {
        "id": "OKsss-L7ZcPY"
      }
    },
    {
      "cell_type": "code",
      "source": [
        "select = SelectFromModel(LogisticRegression(penalty = 'l1',solver = 'liblinear',random_state=777), threshold= 10**(-5))\n",
        "select.fit(X_train, y_train)\n",
        "X_train_selected = select.transform(X_train)\n",
        "print(X_train.shape)\n",
        "print(X_train_selected.shape)"
      ],
      "metadata": {
        "colab": {
          "base_uri": "https://localhost:8080/"
        },
        "id": "TMlFxei4YxqE",
        "outputId": "3f5b134a-d5b9-42c3-b1fd-ab3b681dd501"
      },
      "execution_count": 206,
      "outputs": [
        {
          "output_type": "stream",
          "name": "stdout",
          "text": [
            "(15081, 80)\n",
            "(15081, 45)\n"
          ]
        }
      ]
    },
    {
      "cell_type": "code",
      "source": [
        "X_test_selected = select.transform(X_test)\n",
        "model.fit(X_train_selected, y_train)\n",
        "a = np.asarray([y_test])\n",
        "b = np.asarray([model.predict_proba(X_test_selected)[:, 1].tolist()])\n",
        "ndcg_score(a,b)"
      ],
      "metadata": {
        "colab": {
          "base_uri": "https://localhost:8080/"
        },
        "id": "nUjktp45lQ26",
        "outputId": "d6069f46-c3de-4eea-d45e-f68f630bd16d"
      },
      "execution_count": 212,
      "outputs": [
        {
          "output_type": "execute_result",
          "data": {
            "text/plain": [
              "0.5491466436883202"
            ]
          },
          "metadata": {},
          "execution_count": 212
        }
      ]
    },
    {
      "cell_type": "markdown",
      "source": [
        "Наблюдаем знанчимое улучшение дефолтного результата"
      ],
      "metadata": {
        "id": "pJmCt5ACAa6T"
      }
    },
    {
      "cell_type": "markdown",
      "source": [
        "Теперь попробуем сделать сделать тюнинг"
      ],
      "metadata": {
        "id": "OAf_Y_fB8xQl"
      }
    },
    {
      "cell_type": "code",
      "source": [
        "X_train_selected= pd.DataFrame(X_train_selected).copy()\n",
        "def objective(trial, X_train = X_train_selected, y_train = y_train):\n",
        "    model = catboost.CatBoostClassifier(\n",
        "        iterations=trial.suggest_int(\"iterations\", 100, 500),\n",
        "\n",
        "        depth=trial.suggest_int(\"depth\", 1, 8),\n",
        "        l2_leaf_reg=trial.suggest_float(\"l2_leaf_reg\", 1e-8, 100.0, log=True),\n",
        "        bootstrap_type=trial.suggest_categorical(\"bootstrap_type\", [\"Bayesian\"]),\n",
        "        random_strength=trial.suggest_float(\"random_strength\", 1e-8, 10.0, log=True),\n",
        "        bagging_temperature=trial.suggest_float(\"bagging_temperature\", 0.0, 10.0),\n",
        "        od_type=trial.suggest_categorical(\"od_type\", [\"IncToDec\", \"Iter\"]),\n",
        "        od_wait=trial.suggest_int(\"od_wait\", 10, 50),\n",
        "        verbose=False\n",
        "    )\n",
        "    skf = StratifiedKFold(n_splits=7, shuffle= True,  random_state=500)\n",
        "    result = [0]*7\n",
        "    for i, (train_index, test_index) in enumerate(skf.split(X_train_selected, y_train)):\n",
        "\n",
        "      train_cv = X_train_selected.iloc[train_index]\n",
        "      y_train_cv = y_train[train_index]\n",
        "      val_cv = X_train_selected.iloc[test_index]\n",
        "      y_val_cv = y_train[test_index]\n",
        "\n",
        "      model.fit(train_cv, y_train_cv)\n",
        "\n",
        "      y_val_true = np.asarray([y_val_cv])\n",
        "      y_val_prediction = np.asarray([model.predict_proba(val_cv)[:, 1].tolist()])\n",
        "\n",
        "      result[i] = ndcg_score(y_val_true ,y_val_prediction)\n",
        "    return np.mean(result[i])\n",
        "optuna.logging.set_verbosity(optuna.logging.WARNING)\n",
        "\n",
        "sampler = TPESampler(seed=42)\n",
        "study = optuna.create_study(study_name=\"catboost\", direction=\"maximize\", sampler=sampler)\n",
        "study.optimize(objective, n_trials=100, show_progress_bar = True)"
      ],
      "metadata": {
        "colab": {
          "base_uri": "https://localhost:8080/",
          "height": 153,
          "referenced_widgets": [
            "4a34d68cd26d44e38bee22b2a1d9056a",
            "64af893b108f4c36a5fcdd7d492b2c79",
            "f7dc827a117641b3a50323716a601542",
            "12e8afdd60154989962836a768e47d20",
            "a3687aff0d304fc5913cb09d20eebce7",
            "775ecfca39aa4ca98f1a2350b926b870",
            "cb35b422e3104ac29f521aa5bc368095",
            "8e1c6e4c058e4a6daf001508d3019c9e",
            "835299fcaad044068c88d56b4932b2ac",
            "bf642d5567b740f688f5a6494a4b91f6",
            "a092fdc1605e49fea0971c52f1c526d3"
          ]
        },
        "id": "ijCmr6659HrP",
        "outputId": "6ae4744a-70dd-4259-8721-e7ea91aa1ac3"
      },
      "execution_count": 123,
      "outputs": [
        {
          "output_type": "display_data",
          "data": {
            "text/plain": [
              "  0%|          | 0/100 [00:00<?, ?it/s]"
            ],
            "application/vnd.jupyter.widget-view+json": {
              "version_major": 2,
              "version_minor": 0,
              "model_id": "4a34d68cd26d44e38bee22b2a1d9056a"
            }
          },
          "metadata": {}
        },
        {
          "output_type": "stream",
          "name": "stderr",
          "text": [
            "Training has stopped (degenerate solution on iteration 99, probably too small l2-regularization, try to increase it)\n",
            "Training has stopped (degenerate solution on iteration 113, probably too small l2-regularization, try to increase it)\n",
            "Training has stopped (degenerate solution on iteration 242, probably too small l2-regularization, try to increase it)\n",
            "Training has stopped (degenerate solution on iteration 82, probably too small l2-regularization, try to increase it)\n",
            "Training has stopped (degenerate solution on iteration 46, probably too small l2-regularization, try to increase it)\n",
            "Training has stopped (degenerate solution on iteration 431, probably too small l2-regularization, try to increase it)\n"
          ]
        }
      ]
    },
    {
      "cell_type": "code",
      "source": [
        "print(\"Number of finished trials: \", len(study.trials))\n",
        "print(\"Best trial:\")\n",
        "trial = study.best_trial\n",
        "print(\"  Value: \", trial.value)\n",
        "print(\"  Params: \")\n",
        "for key, value in trial.params.items():\n",
        "    print(\"    {}: {}\".format(key, value))"
      ],
      "metadata": {
        "colab": {
          "base_uri": "https://localhost:8080/"
        },
        "id": "5M8DRuYWHOtn",
        "outputId": "65636323-950c-438b-8c13-843a2782b49b"
      },
      "execution_count": 124,
      "outputs": [
        {
          "output_type": "stream",
          "name": "stdout",
          "text": [
            "Number of finished trials:  100\n",
            "Best trial:\n",
            "  Value:  0.5771148721534115\n",
            "  Params: \n",
            "    iterations: 183\n",
            "    depth: 4\n",
            "    l2_leaf_reg: 0.00020750916574915811\n",
            "    bootstrap_type: Bayesian\n",
            "    random_strength: 0.38541062272198556\n",
            "    bagging_temperature: 9.079554677072222\n",
            "    od_type: IncToDec\n",
            "    od_wait: 34\n"
          ]
        }
      ]
    },
    {
      "cell_type": "code",
      "source": [
        "best_params = {\n",
        "    'iterations': 183,\n",
        "    'depth': 4,\n",
        "    'l2_leaf_reg': 0.00020750916574915811,\n",
        "    'bootstrap_type': 'Bayesian',\n",
        "    'random_strength': 0.38541062272198556,\n",
        "    'bagging_temperature': 9.079554677072222,\n",
        "    'od_type': 'IncToDec',\n",
        "    'od_wait': 34\n",
        "}\n",
        "model_best = catboost.CatBoostClassifier(**best_params, verbose=False)\n",
        "model_best.fit(X_train_selected, y_train)\n",
        "a = np.asarray([y_test])\n",
        "b = np.asarray([model_best.predict_proba(X_test_selected)[:, 1].tolist()])\n",
        "\n",
        "ndcg_score(a,b)"
      ],
      "metadata": {
        "colab": {
          "base_uri": "https://localhost:8080/"
        },
        "id": "k-wyNx12Haeh",
        "outputId": "2ef3e87e-b4fa-4ec2-ddaf-4f81e9d883da"
      },
      "execution_count": 235,
      "outputs": [
        {
          "output_type": "execute_result",
          "data": {
            "text/plain": [
              "0.5554448932839412"
            ]
          },
          "metadata": {},
          "execution_count": 235
        }
      ]
    },
    {
      "cell_type": "markdown",
      "source": [
        "Улучшение сработало, однако значимого роста качества достичь не удалось"
      ],
      "metadata": {
        "id": "eVNcoB0jCCwa"
      }
    },
    {
      "cell_type": "markdown",
      "source": [
        "Теперь попробуем сократить изначальное признаковое пространство, при помощи PCA. Число главных компонент примим за гиперапараметр и будет отбирать по валидационной выборке"
      ],
      "metadata": {
        "id": "pBMERXmqTmrP"
      }
    },
    {
      "cell_type": "code",
      "source": [
        "for k in range(10, 80, 5):\n",
        "  pipeline = Pipeline([\n",
        "    ('scaler', StandardScaler()), #не забудем провести стандартизацию\n",
        "    ('pca', PCA(n_components=k, random_state = 42)), #зафиксируем seed\n",
        "\n",
        "  ])\n",
        "\n",
        "  X_train_processed = pipeline.fit_transform(X_train.drop('search_id', axis=1).copy())\n",
        "\n",
        "\n",
        "  result = [0]*7\n",
        "  skf = StratifiedKFold(n_splits=7, shuffle= True,  random_state=500)\n",
        "  for i, (train_index, test_index) in enumerate(skf.split(X_train, y_train)): #сделаем валидацию\n",
        "      X_train_processed = pd.DataFrame(X_train_processed)\n",
        "      train_cv = X_train_processed.iloc[train_index]\n",
        "      y_train_cv = y_train[train_index]\n",
        "      val_cv = X_train_processed.iloc[test_index]\n",
        "      y_val_cv = y_train[test_index]\n",
        "      model_pca = catboost.CatBoostClassifier( verbose=False, random_state = 42)\n",
        "      model_pca.fit(train_cv, y_train_cv)\n",
        "\n",
        "      y_val_true = np.asarray([y_val_cv])\n",
        "      y_val_prediction = np.asarray([model_pca.predict_proba(val_cv)[:, 1].tolist()])\n",
        "\n",
        "      result[i] = ndcg_score(y_val_true ,y_val_prediction)\n",
        "\n",
        "  print('Число компонент', k, 'Итоговый результат', np.mean(result) )\n"
      ],
      "metadata": {
        "colab": {
          "base_uri": "https://localhost:8080/"
        },
        "id": "1XSU_GvWa_VE",
        "outputId": "88614ddc-6750-49e8-8f46-4588c97c3841"
      },
      "execution_count": 177,
      "outputs": [
        {
          "output_type": "stream",
          "name": "stdout",
          "text": [
            "Число компонент 10 Итоговый результат 0.45357804421289344\n",
            "Число компонент 15 Итоговый результат 0.45377755144696297\n",
            "Число компонент 20 Итоговый результат 0.4636243903648737\n",
            "Число компонент 25 Итоговый результат 0.46388240491229793\n",
            "Число компонент 30 Итоговый результат 0.48014614744801526\n",
            "Число компонент 35 Итоговый результат 0.4733898108269202\n",
            "Число компонент 40 Итоговый результат 0.4754503673689608\n",
            "Число компонент 45 Итоговый результат 0.48312565362456816\n",
            "Число компонент 50 Итоговый результат 0.4767283032374673\n",
            "Число компонент 55 Итоговый результат 0.4716182719113667\n",
            "Число компонент 60 Итоговый результат 0.4662240389358176\n",
            "Число компонент 65 Итоговый результат 0.46197525374352727\n",
            "Число компонент 70 Итоговый результат 0.46462010374682217\n",
            "Число компонент 75 Итоговый результат 0.47061069467872174\n"
          ]
        }
      ]
    },
    {
      "cell_type": "markdown",
      "source": [
        "Лучший результат прии 45 компонентах"
      ],
      "metadata": {
        "id": "j4Lbn8s9uKjD"
      }
    },
    {
      "cell_type": "code",
      "source": [
        "pipeline = Pipeline([\n",
        "    ('scaler', StandardScaler()),\n",
        "    ('pca', PCA(n_components=45, random_state = 42)),\n",
        "\n",
        "  ])\n",
        "\n",
        "X_train_processed = pipeline.fit_transform(X_train.drop('search_id', axis=1).copy())\n",
        "X_test_processed = pipeline.fit_transform(X_test.drop('search_id', axis=1).copy())\n",
        "\n",
        "model_pca = catboost.CatBoostClassifier( verbose=False, random_state = 42)\n",
        "model_pca.fit(X_train_processed, y_train)\n",
        "a = np.asarray([y_test])\n",
        "b = np.asarray([model_pca.predict_proba(X_test_processed)[:, 1].tolist()])\n",
        "ndcg_score(a,b) #по непонятной причине результат на тесте сильно хуже валидационной выборки"
      ],
      "metadata": {
        "colab": {
          "base_uri": "https://localhost:8080/"
        },
        "id": "j10Jc9qYcVAN",
        "outputId": "3a2a8860-a0ac-4c0c-e0ef-564667e29c90"
      },
      "execution_count": 217,
      "outputs": [
        {
          "output_type": "execute_result",
          "data": {
            "text/plain": [
              "0.3966995587064165"
            ]
          },
          "metadata": {},
          "execution_count": 217
        }
      ]
    },
    {
      "cell_type": "markdown",
      "source": [
        "Тем не менее сделаем тюнинг, возможно нам повезет"
      ],
      "metadata": {
        "id": "B1c-UctMEOCi"
      }
    },
    {
      "cell_type": "code",
      "source": [
        "def objective(trial, X_train_processed = X_train_processed):\n",
        "    model = catboost.CatBoostClassifier(\n",
        "        iterations=trial.suggest_int(\"iterations\", 100, 500),\n",
        "\n",
        "        depth=trial.suggest_int(\"depth\", 1, 8),\n",
        "        l2_leaf_reg=trial.suggest_float(\"l2_leaf_reg\", 1e-8, 100.0, log=True),\n",
        "        bootstrap_type=trial.suggest_categorical(\"bootstrap_type\", [\"Bayesian\"]),\n",
        "        random_strength=trial.suggest_float(\"random_strength\", 1e-8, 10.0, log=True),\n",
        "        bagging_temperature=trial.suggest_float(\"bagging_temperature\", 0.0, 10.0),\n",
        "        od_type=trial.suggest_categorical(\"od_type\", [\"IncToDec\", \"Iter\"]),\n",
        "        od_wait=trial.suggest_int(\"od_wait\", 10, 50),\n",
        "        verbose=False\n",
        "    )\n",
        "    skf = StratifiedKFold(n_splits=7, shuffle= True,  random_state=500)\n",
        "    X_train_processed = pd.DataFrame(X_train_processed)\n",
        "    result = [0]*7\n",
        "    for i, (train_index, test_index) in enumerate(skf.split(X_train_processed, y_train)):\n",
        "      train_cv = X_train_processed.iloc[train_index]\n",
        "      y_train_cv = y_train[train_index]\n",
        "      val_cv = X_train_processed.iloc[test_index]\n",
        "      y_val_cv = y_train[test_index]\n",
        "\n",
        "      model.fit(train_cv, y_train_cv)\n",
        "\n",
        "      y_val_true = np.asarray([y_val_cv])\n",
        "      y_val_prediction = np.asarray([model.predict_proba(val_cv)[:, 1].tolist()])\n",
        "\n",
        "      result[i] = ndcg_score(y_val_true ,y_val_prediction)\n",
        "    return np.mean(result[i])\n",
        "optuna.logging.set_verbosity(optuna.logging.WARNING)\n",
        "\n",
        "sampler = TPESampler(seed=42)\n",
        "study = optuna.create_study(study_name=\"catboost\", direction=\"maximize\", sampler=sampler)\n",
        "study.optimize(objective, n_trials=100, show_progress_bar = True)"
      ],
      "metadata": {
        "colab": {
          "base_uri": "https://localhost:8080/",
          "height": 49,
          "referenced_widgets": [
            "cbca4e1eba5e4fc4977c1ba2d987e79f",
            "f0b9519e086742509b2a919da143d593",
            "ddd32bdeae11419d8922213ba883080a",
            "13e105c9e5094ca1adfd96e3467bee1e",
            "fd473033355f43329483ebc520c4e695",
            "1c4d41b75db949aba917ed4bcb2f7619",
            "fdd016f461b448cdb8a127b321ddb096",
            "346cb4afb5f145049268427245c9b42d",
            "3818876d9c924b6ea21f59789afdd8de",
            "f06f0eb605de47478c212a1e90cbe6ab",
            "fde1098d1b9b415fa918276076dc74de"
          ]
        },
        "id": "kQ0nzd1jf-M1",
        "outputId": "52d150e7-4c9d-48c0-a8c6-8f024e043a4b"
      },
      "execution_count": 190,
      "outputs": [
        {
          "data": {
            "application/vnd.jupyter.widget-view+json": {
              "model_id": "cbca4e1eba5e4fc4977c1ba2d987e79f",
              "version_major": 2,
              "version_minor": 0
            },
            "text/plain": [
              "  0%|          | 0/100 [00:00<?, ?it/s]"
            ]
          },
          "metadata": {},
          "output_type": "display_data"
        }
      ]
    },
    {
      "cell_type": "code",
      "source": [
        "print(\"Number of finished trials: \", len(study.trials))\n",
        "print(\"Best trial:\")\n",
        "trial = study.best_trial\n",
        "print(\"  Value: \", trial.value)\n",
        "print(\"  Params: \")\n",
        "for key, value in trial.params.items():\n",
        "    print(\"    {}: {}\".format(key, value))"
      ],
      "metadata": {
        "colab": {
          "base_uri": "https://localhost:8080/"
        },
        "id": "Xs9wdWs44QrC",
        "outputId": "9ec5682b-5552-47fd-857c-dba3280741f6"
      },
      "execution_count": 191,
      "outputs": [
        {
          "output_type": "stream",
          "name": "stdout",
          "text": [
            "Number of finished trials:  100\n",
            "Best trial:\n",
            "  Value:  0.5517844193603945\n",
            "  Params: \n",
            "    iterations: 306\n",
            "    depth: 2\n",
            "    l2_leaf_reg: 8.081950610781513e-08\n",
            "    bootstrap_type: Bayesian\n",
            "    random_strength: 3.6695344055970045\n",
            "    bagging_temperature: 2.0222754847733024\n",
            "    od_type: Iter\n",
            "    od_wait: 15\n"
          ]
        }
      ]
    },
    {
      "cell_type": "code",
      "source": [
        "best_params = {\n",
        "    'iterations': 306,\n",
        "    'depth': 2,\n",
        "    'l2_leaf_reg': 8.081950610781513e-08,\n",
        "    'bootstrap_type': 'Bayesian',\n",
        "    'random_strength': 3.6695344055970045,\n",
        "    'bagging_temperature': 2.0222754847733024,\n",
        "    'od_type': 'Iter',\n",
        "    'od_wait': 15\n",
        "}\n",
        "model = catboost.CatBoostClassifier(**best_params, verbose=False)\n",
        "model.fit(X_train_processed, y_train)\n",
        "a = np.asarray([y_test])\n",
        "b = np.asarray([model.predict_proba(X_test_processed)[:, 1].tolist()])\n",
        "ndcg_score(a,b)"
      ],
      "metadata": {
        "colab": {
          "base_uri": "https://localhost:8080/"
        },
        "id": "b9jSQzMd4XnB",
        "outputId": "54dec2b0-a0f9-4d10-f51c-1ab2959528df"
      },
      "execution_count": 219,
      "outputs": [
        {
          "output_type": "execute_result",
          "data": {
            "text/plain": [
              "0.4376000060071163"
            ]
          },
          "metadata": {},
          "execution_count": 219
        }
      ]
    },
    {
      "cell_type": "markdown",
      "source": [
        "чуда не произошло"
      ],
      "metadata": {
        "id": "8SZPo-iOFIe-"
      }
    },
    {
      "cell_type": "markdown",
      "source": [
        "# Вывод"
      ],
      "metadata": {
        "id": "aLH4gTZQFMbU"
      }
    },
    {
      "cell_type": "markdown",
      "source": [
        "Лучшее качество мо метрике NDCG- **0.555**\n",
        "\n",
        "На модели Catboost, после тюнинга с отбором и с предварительным отбором признаков Lasso"
      ],
      "metadata": {
        "id": "0El04VI9FO8S"
      }
    },
    {
      "cell_type": "markdown",
      "source": [
        "**Кратко об неудачных экспериментах**\n"
      ],
      "metadata": {
        "id": "0NK5vjdfLo8Y"
      }
    },
    {
      "cell_type": "markdown",
      "source": [
        "Попытки сделать ансамбли с RandomForest и другими бустингами не дали ощутимого прироста качаства, а также замена PCA на TSNE, не дала значимого прироста к качеству"
      ],
      "metadata": {
        "id": "AfwRvJ1ILxX3"
      }
    }
  ]
}